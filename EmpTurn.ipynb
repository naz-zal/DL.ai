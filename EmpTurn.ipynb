{
  "cells": [
    {
      "metadata": {
        "_cell_guid": "b1076dfc-b9ad-4769-8c92-a6c4dae69d19",
        "_uuid": "8f2839f25d086af736a60e9eeb907d3b93b6e0e5",
        "trusted": false,
        "collapsed": true
      },
      "cell_type": "code",
      "source": "#dependencies\nimport pandas as pd \n\n#loading the data\ndf = pd.read_csv(\"../input/HR_comma_sep.csv\")\n\n#checking for NULL values\nprint(\"\\033[1m\" + \"\\033[94m\" + \"Data types:\\n\" + 11 * \"-\")\nprint(\"\\033[30m\" + \"{}\\n\".format(df.dtypes))\nprint(\"\\033[1m\" + \"\\033[94m\" + \"Sum of null values in each column:\\n\" + 35 * \"-\")\nprint(\"\\033[30m\" + \"{}\".format(df.isnull().sum()))\ndf.head()\n",
      "execution_count": null,
      "outputs": []
    },
    {
      "metadata": {
        "_cell_guid": "79c7e3d0-c299-4dcb-8224-4455121ee9b0",
        "_uuid": "d629ff2d2480ee46fbb7e2d37f6b5fab8052498a",
        "collapsed": true
      },
      "cell_type": "markdown",
      "source": "Data preprocessing\n\n1: Convert salary values into integers "
    },
    {
      "metadata": {
        "_cell_guid": "8123ee5d-2d4b-44a9-bd93-f8d1766fa71b",
        "_uuid": "72f0c592c23ec142d97da853e9d9a4cfb081f73e",
        "collapsed": true,
        "trusted": false
      },
      "cell_type": "code",
      "source": "# Map salary into integers\nsalary_map = {\"low\": 0, \"medium\": 1, \"high\": 2}\ndf[\"salary\"] = df[\"salary\"].map(salary_map)",
      "execution_count": null,
      "outputs": []
    },
    {
      "metadata": {
        "_cell_guid": "9c2c0cb1-5a9a-461d-aa67-c56aee28ed3c",
        "_uuid": "ab16ed8b751fd7ac3c8d8c9de0694d1a33e481e4",
        "collapsed": true,
        "trusted": false
      },
      "cell_type": "code",
      "source": "df = pd.get_dummies(df, columns=[\"Department\"], drop_first=True)",
      "execution_count": null,
      "outputs": []
    },
    {
      "metadata": {
        "_cell_guid": "ffef34f3-5673-43e4-9586-f231f9bc4346",
        "_uuid": "2327b0ea4709f7094c909d67d52b92e295b61dc9"
      },
      "cell_type": "markdown",
      "source": "**The data now has 17 features**"
    },
    {
      "metadata": {
        "_cell_guid": "0a31e7c7-767b-49f9-838f-c17c577224ff",
        "_uuid": "e6ac7f5507319c56cd4f08b426401fdf9394699a",
        "collapsed": true,
        "trusted": false
      },
      "cell_type": "code",
      "source": "#converting dataframe into numpy array (80/20 split)\nfrom sklearn.model_selection import train_test_split\nfrom sklearn.utils import resample\nimport numpy as np\n\nx = df.loc[:, df.columns != \"left\"].values\ny = df.loc[:, df.columns == \"left\"].values.flatten()\n\nx_train, x_test, y_train, y_test = train_test_split(x, y, test_size = 0.2, stratify = y, random_state = 1)\n\n#upsampling minority classes \nx_train_u, y_train_u = resample(x_train[y_train == 1], y_train[y_train == 1], replace=True, n_samples = x_train[y_train == 0].shape[0],\n                                random_state=1)\n\nx_train_u = np.concatenate((x_train[y_train == 0], x_train_u))\ny_train_u = np.concatenate((y_train[y_train == 0], y_train_u))\n\n# Downsampling majority class\nx_train_d, y_train_d = resample(x_train[y_train == 0], y_train[y_train == 0], replace=True, n_samples= x_train[y_train == 1].shape[0],\n                                random_state=1)\n\nx_train_d = np.concatenate((x_train[y_train == 1], x_train_d))\ny_train_d = np.concatenate((y_train[y_train == 1], y_train_d))",
      "execution_count": null,
      "outputs": []
    },
    {
      "metadata": {
        "_cell_guid": "72bf7271-7cd3-4585-914d-2851e04133a0",
        "_uuid": "eab5552d61d8c16ab94c8b959f7770dfd12df968"
      },
      "cell_type": "markdown",
      "source": "Machine Learning algorithm used: Random Forest\n\nHyperparameters tuned: max_features and min_samples_leaf"
    },
    {
      "metadata": {
        "_cell_guid": "8571d8c0-b549-48ce-9030-2245c026c11a",
        "_uuid": "fa9ff4e70faa557c64d422dfde1d826a742dc9ac",
        "trusted": false,
        "collapsed": true
      },
      "cell_type": "code",
      "source": "from sklearn.ensemble import RandomForestClassifier\n\nclf = RandomForestClassifier(n_estimators=50, class_weight=\"balanced\", random_state=123, \n                            criterion=\"entropy\", max_features = 0.4, min_samples_leaf = 1)\nclf.fit(x_train_u, y_train_u)\n",
      "execution_count": null,
      "outputs": []
    },
    {
      "metadata": {
        "_cell_guid": "def61bff-ebde-430a-bf9f-8de71a2126fa",
        "_uuid": "54ccf3740f92422667f9cc354aeb0de78046e46e",
        "trusted": false,
        "collapsed": true
      },
      "cell_type": "code",
      "source": "from sklearn.metrics import accuracy_score\n\nprint('Random Forest Accuracy: {:.3f}'.format(accuracy_score(y_test, clf.predict(x_test))))",
      "execution_count": null,
      "outputs": []
    },
    {
      "metadata": {
        "_cell_guid": "0478131f-7276-49fe-bddf-dc9d59aed4cf",
        "_uuid": "c80c8b973f5db20e2199deb37091546c0200e99c",
        "collapsed": true,
        "trusted": false
      },
      "cell_type": "code",
      "source": "",
      "execution_count": null,
      "outputs": []
    },
    {
      "metadata": {
        "_cell_guid": "cb207e80-983f-4fd5-bdd9-7e4c5e0368e8",
        "_uuid": "c0383c08ed669d078517e5a65536cf512b99da15",
        "collapsed": true,
        "trusted": false
      },
      "cell_type": "code",
      "source": "",
      "execution_count": null,
      "outputs": []
    },
    {
      "metadata": {
        "_cell_guid": "a1579589-651b-4c79-b4ed-908537a06fd3",
        "_uuid": "5bcccbc1365b6716b61e03f812702c03740dcf81",
        "collapsed": true,
        "trusted": false
      },
      "cell_type": "code",
      "source": "",
      "execution_count": null,
      "outputs": []
    },
    {
      "metadata": {
        "_cell_guid": "29c6536f-1b0d-4aee-9cec-225649243f6d",
        "_uuid": "2bdfbcdaf420ea425033a77d04417938b2952058",
        "collapsed": true,
        "trusted": false
      },
      "cell_type": "code",
      "source": "",
      "execution_count": null,
      "outputs": []
    },
    {
      "metadata": {
        "_cell_guid": "12720332-6b44-4d1a-a1dd-3f1c22309faf",
        "_uuid": "8492e0d9c21db1dce87216254ad4ec3d19d613ba",
        "collapsed": true,
        "trusted": false
      },
      "cell_type": "code",
      "source": "",
      "execution_count": null,
      "outputs": []
    },
    {
      "metadata": {
        "_cell_guid": "4abe9bb3-7741-4d89-9d7c-115c425dc5c0",
        "_uuid": "e1297ea4ad3e643b9ea60b30314d9f77fd7c96f1",
        "collapsed": true,
        "trusted": false
      },
      "cell_type": "code",
      "source": "",
      "execution_count": null,
      "outputs": []
    },
    {
      "metadata": {
        "_cell_guid": "cb203cc3-b2c4-4744-8f01-31c844bb792b",
        "_uuid": "401ce5b75ae2fb7e3ee0b0d40c2f59f2f4da35dc",
        "collapsed": true,
        "trusted": false
      },
      "cell_type": "code",
      "source": "",
      "execution_count": null,
      "outputs": []
    },
    {
      "metadata": {
        "_cell_guid": "2eecaf72-7788-41b2-a93c-a8e46e8ba280",
        "_uuid": "8bdad80f2668ae9908ec9d749d4808a537cfd39f",
        "collapsed": true,
        "trusted": false
      },
      "cell_type": "code",
      "source": "",
      "execution_count": null,
      "outputs": []
    },
    {
      "metadata": {
        "_cell_guid": "abdbb42e-e471-41c6-af88-44d3a82852b3",
        "_uuid": "ea5f27aa71888947936d9ea3b0706ac56f2018ce",
        "collapsed": true,
        "trusted": false
      },
      "cell_type": "code",
      "source": "",
      "execution_count": null,
      "outputs": []
    },
    {
      "metadata": {
        "_cell_guid": "81592d0a-dd1e-406d-96f4-0a85a662bef6",
        "_uuid": "414857b8318dc9f613e96d0962991c539ed684e6",
        "collapsed": true,
        "trusted": false
      },
      "cell_type": "code",
      "source": "",
      "execution_count": null,
      "outputs": []
    },
    {
      "metadata": {
        "_cell_guid": "7333c5eb-cc39-41f2-bd0f-eb3fa402d9a4",
        "_uuid": "de317f526ce217a6aa6f4366ea65b756810a2ff5",
        "collapsed": true,
        "trusted": false
      },
      "cell_type": "code",
      "source": "",
      "execution_count": null,
      "outputs": []
    },
    {
      "metadata": {
        "_cell_guid": "f4da9f74-b8bc-43d1-bdb1-b055062fad8d",
        "_uuid": "2048da535542de35fbc2759fda79e712101a51fb",
        "collapsed": true,
        "trusted": false
      },
      "cell_type": "code",
      "source": "",
      "execution_count": null,
      "outputs": []
    },
    {
      "metadata": {
        "_cell_guid": "dbd91ff7-b895-4e05-bee3-f38aed65b1e2",
        "_uuid": "e101523aca833a906cf0bb8d5c420bd022c1f168",
        "collapsed": true,
        "trusted": false
      },
      "cell_type": "code",
      "source": "",
      "execution_count": null,
      "outputs": []
    }
  ],
  "metadata": {
    "language_info": {
      "name": "python",
      "nbconvert_exporter": "python",
      "file_extension": ".py",
      "pygments_lexer": "ipython3",
      "codemirror_mode": {
        "name": "ipython",
        "version": 3
      },
      "mimetype": "text/x-python",
      "version": "3.6.4"
    },
    "kernelspec": {
      "display_name": "Python 3",
      "language": "python",
      "name": "python3"
    }
  },
  "nbformat": 4,
  "nbformat_minor": 1
}