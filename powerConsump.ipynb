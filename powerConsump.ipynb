{
  "cells": [
    {
      "metadata": {
        "_cell_guid": "b1076dfc-b9ad-4769-8c92-a6c4dae69d19",
        "_uuid": "8f2839f25d086af736a60e9eeb907d3b93b6e0e5",
        "trusted": false,
        "collapsed": true
      },
      "cell_type": "code",
      "source": "#loading dependencies \n\nimport sys \nimport numpy as np \nimport pandas as pd                                               #for data processing \nimport matplotlib.pyplot as plt        \nimport seaborn as sns                                             #interactive graph\nfrom sklearn.model_selection import train_test_split\nfrom sklearn.cross_validation import KFold\nfrom sklearn.preprocessing import StandardScaler                  #normalization\nfrom sklearn.preprocessing import MinMaxScaler\nfrom sklearn.pipeline import Pipeline\nfrom sklearn.model_selection import cross_val_score\nfrom sklearn.feature_selection import SelectFromModel\nfrom sklearn.metrics import mean_squared_error, r2_score\n\n#keras deep learning \nimport itertools \nfrom keras.models import Sequential\nfrom keras.layers import Dense, LSTM, Dropout, Activation\nfrom keras.utils import np_utils, to_categorical \nfrom keras.optimizers import SGD\nfrom keras.callbacks import EarlyStopping\nfrom keras.layers.convolutional import Conv1D, MaxPooling1D\n",
      "execution_count": null,
      "outputs": []
    },
    {
      "metadata": {
        "collapsed": true,
        "_cell_guid": "79c7e3d0-c299-4dcb-8224-4455121ee9b0",
        "_uuid": "d629ff2d2480ee46fbb7e2d37f6b5fab8052498a",
        "trusted": false
      },
      "cell_type": "code",
      "source": "#loading data from a .txt file using pandas \n\n#Date and Time are both merged into one column called 'dt'\ndata = pd.read_csv('../input/household_power_consumption.txt', sep = ';', \n                   parse_dates = {'dt' : [\"Date\", \"Time\"]}, infer_datetime_format = True, low_memory = False, \n                   na_values = ['nan', '?'], index_col = \"dt\")",
      "execution_count": null,
      "outputs": []
    },
    {
      "metadata": {
        "_cell_guid": "f02de601-857f-4cca-999e-dd89911bf94b",
        "_uuid": "0205129e7ce0d5a83bc08af693ed9238c09d28dc",
        "trusted": false,
        "collapsed": true
      },
      "cell_type": "code",
      "source": "data.head()",
      "execution_count": null,
      "outputs": []
    },
    {
      "metadata": {
        "_cell_guid": "308cc62c-7382-4445-8bd6-587b8d99c50e",
        "_uuid": "ffc824b497c58e87133f4a743d525349b3cd7b62",
        "trusted": false,
        "collapsed": true
      },
      "cell_type": "code",
      "source": "data.shape",
      "execution_count": null,
      "outputs": []
    },
    {
      "metadata": {
        "_cell_guid": "517327fc-1328-4ec7-a11f-7e6db004cbec",
        "_uuid": "997d5a7498c9ebdd6564bdaa7fd048407969dd8e",
        "trusted": false,
        "collapsed": true
      },
      "cell_type": "code",
      "source": "#using pd to get all the columns \n\ndata.columns",
      "execution_count": null,
      "outputs": []
    },
    {
      "metadata": {
        "collapsed": true,
        "_cell_guid": "a659c000-2bc2-4be9-a764-af425e3d8c86",
        "_uuid": "e01cff1ecb1cfa6d95fe0b0c71ef24435e10b842"
      },
      "cell_type": "markdown",
      "source": "**Dealing with columns that have NaN**"
    },
    {
      "metadata": {
        "_cell_guid": "6c60439b-2c37-4362-8007-5d5239146f91",
        "_uuid": "c0aaf3327fa3e2e5562b34c15497e1285acfb53e",
        "trusted": false,
        "collapsed": true
      },
      "cell_type": "code",
      "source": "columns_with_nan = []\n\nfor i in range(7): #7 becausle no. of columns = 7\n    if not data.iloc[:, i].notnull().all():\n        columns_with_nan.append(i)\n        \nprint(columns_with_nan)",
      "execution_count": null,
      "outputs": []
    },
    {
      "metadata": {
        "_cell_guid": "52a04b5f-0a34-43bb-96f2-8bb0809b0050",
        "_uuid": "ecbf44e0f258978280eae672f307811924c41b54",
        "trusted": false,
        "collapsed": true
      },
      "cell_type": "code",
      "source": "#filling in these NaN values with mean of that column\n\nfor i in range(7):\n    data.iloc[:, i] = data.iloc[:, i].fillna(data.iloc[:, i].mean())\n    \n#now, time to check if there are any NaN values left \ndata.isnull().sum()",
      "execution_count": null,
      "outputs": []
    },
    {
      "metadata": {
        "collapsed": true,
        "_cell_guid": "6934e123-938d-4d6f-b780-8c53d88982ac",
        "_uuid": "55333e37adcdf35fae3b39ad9c02ff266e428a89"
      },
      "cell_type": "markdown",
      "source": "**Data Visualization ** techniques and Introduction to Resampling "
    },
    {
      "metadata": {
        "_cell_guid": "dd114364-32e3-4a7c-9815-c9ea9963683e",
        "_uuid": "835e28e428c55782331f222368daa0deba1fb220",
        "trusted": false,
        "collapsed": true
      },
      "cell_type": "code",
      "source": "data.Global_active_power.resample('D').sum().plot(title = \"Global active power resampled over day (sum)\")\nplt.tight_layout()\nplt.show()  #this is done to make this a seperate graph\n\ndata.Global_active_power.resample('D').mean().plot(title = \"Global active power resampled over day (mean)\", color = \"red\")\nplt.tight_layout()\nplt.show()",
      "execution_count": null,
      "outputs": []
    },
    {
      "metadata": {
        "collapsed": true,
        "_cell_guid": "f7d1a88d-2dd1-4274-9e4c-3dc8de238cd9",
        "_uuid": "15b32e5cca14512d173079822206b745a8966e61"
      },
      "cell_type": "markdown",
      "source": "Comparison of the mean of different feature sampled over day "
    },
    {
      "metadata": {
        "_cell_guid": "6a91a039-5ecf-41bf-baae-34451355a2cf",
        "_uuid": "e1aecaf70bdc90792aa1418cf3c7425d14ebea15",
        "trusted": false,
        "collapsed": true
      },
      "cell_type": "code",
      "source": "features = [0, 1, 2, 3, 4, 5, 6]\ni = 1 \ngroups = features \nvalues = data.resample(\"D\").mean().values\n\n#plotting each feature column \nplt.figure(figsize = (15, 10))\nfor group in groups: \n    plt.subplot(len(features), 1, i)\n    plt.plot(values[:, group])\n    plt.title(data.columns[group], y = 0.75, loc = \"right\")\n    i += 1 \n    \nplt.show()",
      "execution_count": null,
      "outputs": []
    },
    {
      "metadata": {
        "collapsed": true,
        "_cell_guid": "105ebf22-f692-48b4-8b00-5b159eed7ce9",
        "_uuid": "29b8617c199369abcd1fd7e3c76c7fdba171212a"
      },
      "cell_type": "markdown",
      "source": "Above, you notice there is similarity between Global Active Power and Global Intensity"
    },
    {
      "metadata": {
        "collapsed": true,
        "_cell_guid": "c5c21978-e800-4619-9f95-279d8d4d5d5d",
        "_uuid": "504b60653744ac9b091e99a2b7a0a5751aaef1ea",
        "trusted": false
      },
      "cell_type": "code",
      "source": "# frame a sequence as a supervised learning problem\ndef series_to_supervised(data, n_in=1, n_out=1, dropnan=True):\n\tn_vars = 1 if type(data) is list else data.shape[1]\n\tdff = pd.DataFrame(data)\n\tcols, names = list(), list()\n\t# input sequence (t-n, ... t-1)\n\tfor i in range(n_in, 0, -1):\n\t\tcols.append(dff.shift(i))\n\t\tnames += [('var%d(t-%d)' % (j+1, i)) for j in range(n_vars)]\n\t# forecast sequence (t, t+1, ... t+n)\n\tfor i in range(0, n_out):\n\t\tcols.append(dff.shift(-i))\n\t\tif i == 0:\n\t\t\tnames += [('var%d(t)' % (j+1)) for j in range(n_vars)]\n\t\telse:\n\t\t\tnames += [('var%d(t+%d)' % (j+1, i)) for j in range(n_vars)]\n\t# put it all together\n\tagg = pd.concat(cols, axis=1)\n\tagg.columns = names\n\t# drop rows with NaN values\n\tif dropnan:\n\t\tagg.dropna(inplace=True)\n\treturn agg",
      "execution_count": null,
      "outputs": []
    },
    {
      "metadata": {
        "_cell_guid": "da044f4d-a3ea-48d8-a09f-02da74ce723a",
        "_uuid": "bdfa84cbcb6398e0bf05e8a14644b31e32208f04",
        "trusted": false,
        "collapsed": true
      },
      "cell_type": "code",
      "source": "resampled = data.resample(\"h\").mean()\nresampled.shape",
      "execution_count": null,
      "outputs": []
    },
    {
      "metadata": {
        "_cell_guid": "aac86d91-5761-419f-b38d-014c47b03a17",
        "_uuid": "dcd29c1a7ce1b892ecadcf305c46bf92a60ce37d",
        "trusted": false,
        "collapsed": true
      },
      "cell_type": "code",
      "source": "from pandas import DataFrame\nfrom pandas import concat\n\nvalues = resampled.values\n\n#normalization\nscaler = MinMaxScaler(feature_range=(0, 1))\nscaled = scaler.fit_transform(values)\n\nreframed = series_to_supervised(scaled, n_in=1, n_out=1, dropnan=True)\n\nreframed.drop(reframed.columns[[8,9,10,11,12,13]], axis=1, inplace=True)\nprint(reframed.head())\n",
      "execution_count": null,
      "outputs": []
    },
    {
      "metadata": {
        "_cell_guid": "8b5c885b-ebdc-4072-9441-2116a646f8e1",
        "_uuid": "323c9eb5e097eedae5ae1c864a1b3bc53291c262",
        "trusted": false,
        "collapsed": true
      },
      "cell_type": "code",
      "source": "#train and test split \n\nvalues = reframed.values\n\nn_train_time = 365*24\ntrain = values[:n_train_time, :]\ntest = values[n_train_time:, :]\n\ntrain_X, train_y = train[:, :-1], train[:, -1]\ntest_X, test_y = test[:, :-1], test[:, -1]\n# reshape input to be 3D [samples, timesteps, features]\ntrain_X = train_X.reshape((train_X.shape[0], 1, train_X.shape[1]))\ntest_X = test_X.reshape((test_X.shape[0], 1, test_X.shape[1]))\nprint(train_X.shape, train_y.shape, test_X.shape, test_y.shape) ",
      "execution_count": null,
      "outputs": []
    },
    {
      "metadata": {
        "collapsed": true,
        "scrolled": true,
        "_cell_guid": "a410307f-34f1-49e1-8e55-3f8234a1b090",
        "_uuid": "cca8b1ee12211bbdf9c2b040f699c3f3f243162d",
        "trusted": false
      },
      "cell_type": "code",
      "source": "#model \n\nmodel = Sequential()\nlayers = [1, 50, 100, 1]\n\nmodel.add(LSTM(1, input_shape=(train_X.shape[1], train_X.shape[2]), return_sequences=True))\nmodel.add(Dropout(0.2))\n\nmodel.add(LSTM(layers[2], return_sequences=False))\nmodel.add(Dropout(0.2))\n\nmodel.add(Dense(layers[3]))\nmodel.add(Activation(\"linear\"))\n\nmodel.compile(loss='mean_squared_error', optimizer='adam')\n ",
      "execution_count": null,
      "outputs": []
    },
    {
      "metadata": {
        "scrolled": false,
        "_cell_guid": "32909ff9-7053-4aac-8034-af5b81349367",
        "_uuid": "20dbdcc6c8ef9522aea44177f53c9f8bacc2f51c",
        "trusted": false,
        "collapsed": true
      },
      "cell_type": "code",
      "source": "history = model.fit(train_X, train_y, epochs=20, batch_size=70, validation_data=(test_X, test_y), verbose=2, shuffle=False)",
      "execution_count": null,
      "outputs": []
    },
    {
      "metadata": {
        "_cell_guid": "d87aa942-c8a8-4662-9e1a-8c564cb2f603",
        "_uuid": "ca5fb7e18fff21df915856e82cbc9556194f5a54",
        "trusted": false,
        "collapsed": true
      },
      "cell_type": "code",
      "source": "# make a prediction\nyhat = model.predict(test_X)\ntest_X = test_X.reshape((test_X.shape[0], 7))\n# invert scaling for forecast\ninv_yhat = np.concatenate((yhat, test_X[:, -6:]), axis=1)\ninv_yhat = scaler.inverse_transform(inv_yhat)\ninv_yhat = inv_yhat[:,0]\n# invert scaling for actual\ntest_y = test_y.reshape((len(test_y), 1))\ninv_y = np.concatenate((test_y, test_X[:, -6:]), axis=1)\ninv_y = scaler.inverse_transform(inv_y)\ninv_y = inv_y[:,0]\n# calculate RMSE\nrmse = np.sqrt(mean_squared_error(inv_y, inv_yhat))\nprint('Test RMSE: %.3f' % rmse)",
      "execution_count": null,
      "outputs": []
    },
    {
      "metadata": {
        "collapsed": true,
        "_cell_guid": "2e3ff01f-7fb6-4c5f-82ba-15a1a5825450",
        "_uuid": "6c55760513bbdb7044b1941103c4a7568e1b4e2a",
        "trusted": false
      },
      "cell_type": "code",
      "source": "",
      "execution_count": null,
      "outputs": []
    },
    {
      "metadata": {
        "collapsed": true,
        "_cell_guid": "f601f653-7932-443c-a3c5-32958a45a3c1",
        "_uuid": "8d9688fc8005a48f76bde825e444682fb8b4b00a",
        "trusted": false
      },
      "cell_type": "code",
      "source": "",
      "execution_count": null,
      "outputs": []
    },
    {
      "metadata": {
        "collapsed": true,
        "_cell_guid": "a460998d-7593-4abe-89fc-c03f8bd8bd65",
        "_uuid": "afb1a851a9e862a1ee0d66ae2e9cb34fda5f083d",
        "trusted": false
      },
      "cell_type": "code",
      "source": "",
      "execution_count": null,
      "outputs": []
    }
  ],
  "metadata": {
    "kernelspec": {
      "display_name": "Python 3",
      "language": "python",
      "name": "python3"
    },
    "language_info": {
      "name": "python",
      "version": "3.6.5",
      "mimetype": "text/x-python",
      "codemirror_mode": {
        "name": "ipython",
        "version": 3
      },
      "pygments_lexer": "ipython3",
      "nbconvert_exporter": "python",
      "file_extension": ".py"
    }
  },
  "nbformat": 4,
  "nbformat_minor": 1
}